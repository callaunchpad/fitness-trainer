{
 "cells": [
  {
   "cell_type": "markdown",
   "id": "9892ae82",
   "metadata": {},
   "source": [
    "# Squat Validator"
   ]
  },
  {
   "cell_type": "markdown",
   "id": "d08e7594",
   "metadata": {},
   "source": [
    "## 1) Imports and functions to utilize pose-estimator"
   ]
  },
  {
   "cell_type": "code",
   "execution_count": 1,
   "id": "2e90bbc9",
   "metadata": {},
   "outputs": [
    {
     "name": "stderr",
     "output_type": "stream",
     "text": [
      "/Users/anerisheth/Library/Python/3.9/lib/python/site-packages/urllib3/__init__.py:34: NotOpenSSLWarning: urllib3 v2 only supports OpenSSL 1.1.1+, currently the 'ssl' module is compiled with 'LibreSSL 2.8.3'. See: https://github.com/urllib3/urllib3/issues/3020\n",
      "  warnings.warn(\n"
     ]
    }
   ],
   "source": [
    "import cv2\n",
    "import numpy as np\n",
    "import os\n",
    "import tensorflow as tf\n",
    "import mediapipe as mp"
   ]
  },
  {
   "cell_type": "code",
   "execution_count": 2,
   "id": "6456ade6",
   "metadata": {},
   "outputs": [],
   "source": [
    "#Initializing Media pipe model and drawing tools\n",
    "mp_holistic = mp.solutions.holistic # Holistic model\n",
    "mp_drawing = mp.solutions.drawing_utils # Drawing utilities\n",
    "mp_drawing_styles = mp.solutions.drawing_styles"
   ]
  },
  {
   "cell_type": "code",
   "execution_count": 3,
   "id": "fedf2080",
   "metadata": {},
   "outputs": [],
   "source": [
    "# Function to detect key points using mediapipe\n",
    "def mediapipe_detection(image, model):\n",
    "    image = cv2.cvtColor(image, cv2.COLOR_BGR2RGB) # COLOR CONVERSION BGR 2 RGB\n",
    "    image.flags.writeable = False                  # Image is no longer writeable\n",
    "    results = model.process(image)                 # Make prediction\n",
    "    image.flags.writeable = True                   # Image is now writeable\n",
    "    image = cv2.cvtColor(image, cv2.COLOR_RGB2BGR) # COLOR COVERSION RGB 2 BGR\n",
    "    return image, results"
   ]
  },
  {
   "cell_type": "code",
   "execution_count": 4,
   "id": "e0512eb6",
   "metadata": {},
   "outputs": [],
   "source": [
    "# Function to draw landmarks of detected keypoints for visualization\n",
    "def draw_styled_landmarks(image, results):\n",
    "    # Draw face connections\n",
    "    mp_drawing.draw_landmarks(image, results.face_landmarks, mp_holistic.FACEMESH_TESSELATION,\n",
    "                             mp_drawing.DrawingSpec(color=(80,110,10), thickness=1, circle_radius=1),\n",
    "                             mp_drawing.DrawingSpec(color=(80,256,121), thickness=1, circle_radius=1)\n",
    "                             )\n",
    "    # Draw pose connections\n",
    "    mp_drawing.draw_landmarks(image, results.pose_landmarks, mp_holistic.POSE_CONNECTIONS,\n",
    "                             landmark_drawing_spec=mp_drawing_styles.get_default_pose_landmarks_style()\n",
    "                             )\n",
    "    # Draw left hand connections\n",
    "    mp_drawing.draw_landmarks(image, results.left_hand_landmarks, mp_holistic.HAND_CONNECTIONS,\n",
    "                             mp_drawing.DrawingSpec(color=(121,22,76), thickness=2, circle_radius=4),\n",
    "                             mp_drawing.DrawingSpec(color=(121,44,250), thickness=2, circle_radius=2)\n",
    "                             )\n",
    "    # Draw right hand connections\n",
    "    mp_drawing.draw_landmarks(image, results.right_hand_landmarks, mp_holistic.HAND_CONNECTIONS,\n",
    "                             mp_drawing.DrawingSpec(color=(245,117,66), thickness=2, circle_radius=4),\n",
    "                             mp_drawing.DrawingSpec(color=(245,66,230), thickness=2, circle_radius=2)\n",
    "                             )"
   ]
  },
  {
   "cell_type": "code",
   "execution_count": 5,
   "id": "5d6f2cf0",
   "metadata": {},
   "outputs": [],
   "source": [
    "#Fucntion to resize input video to fit screen dimensions\n",
    "def scale_video(scale_percent):\n",
    "    width = int(image.shape[1] * scale_percent / 100)\n",
    "    height = int(image.shape[0] * scale_percent / 100)\n",
    "    dimensions = (width, height)\n",
    "    return dimensions"
   ]
  },
  {
   "cell_type": "code",
   "execution_count": 6,
   "id": "8cfb5d9e",
   "metadata": {},
   "outputs": [],
   "source": [
    "# Function to extract body key-points detected\n",
    "def extract_keypoints(results):\n",
    "    pose = np.array([[res.x, res.y, res.z, res.visibility] for res in results.pose_landmarks.landmark]).flatten() if results.pose_landmarks else np.zeros(33*4)\n",
    "    return pose"
   ]
  },
  {
   "cell_type": "markdown",
   "id": "df7deeaa",
   "metadata": {},
   "source": [
    "## 2) Creating Features and Labels for the Model"
   ]
  },
  {
   "cell_type": "code",
   "execution_count": 7,
   "id": "16ec8559",
   "metadata": {},
   "outputs": [],
   "source": [
    "from sklearn.model_selection import train_test_split\n",
    "from tensorflow.keras.utils import to_categorical"
   ]
  },
  {
   "cell_type": "code",
   "execution_count": 8,
   "id": "4f220a91",
   "metadata": {},
   "outputs": [],
   "source": [
    "# Actions we want to predict\n",
    "Squat_result = np.array(['Valid', 'Invalid'])"
   ]
  },
  {
   "cell_type": "code",
   "execution_count": 9,
   "id": "8fb111dc",
   "metadata": {},
   "outputs": [],
   "source": [
    "# 240 videos\n",
    "# 120 each for valid and invalid squats\n",
    "no_of_vids = 120"
   ]
  },
  {
   "cell_type": "code",
   "execution_count": 10,
   "id": "9614a865",
   "metadata": {},
   "outputs": [],
   "source": [
    "# Path for exported data, numpy arrays\n",
    "VALID_SAVE_PATH = os.path.join('Squat_Data')"
   ]
  },
  {
   "cell_type": "code",
   "execution_count": 11,
   "id": "b163f350",
   "metadata": {},
   "outputs": [],
   "source": [
    "label_map = {label:num for num, label in enumerate(Squat_result)}"
   ]
  },
  {
   "cell_type": "code",
   "execution_count": 12,
   "id": "26f871f1",
   "metadata": {},
   "outputs": [],
   "source": [
    "# initializing two arrays to hold features(sequences) and labels(labels)\n",
    "sequences, labels = [], []\n",
    "max_frame_num = 0\n",
    "\n",
    "for action in Squat_result:\n",
    "    for sequence in range(no_of_vids):\n",
    "        counter = True\n",
    "        window = []\n",
    "        frame_no = 0\n",
    "        while counter:\n",
    "            try:\n",
    "                res = np.load(os.path.join(VALID_SAVE_PATH, action, str(sequence), \"{}.npy\".format(frame_no)))\n",
    "                print(sequence, action, frame_no)\n",
    "                frame_no+=1\n",
    "                if frame_no>max_frame_num:\n",
    "                    max_frame_num=frame_no\n",
    "                window.append(res)\n",
    "            except:\n",
    "                break\n",
    "\n",
    "        sequences.append(window)\n",
    "        labels.append(label_map[action])"
   ]
  },
  {
   "cell_type": "code",
   "execution_count": 13,
   "id": "b74147c4",
   "metadata": {},
   "outputs": [],
   "source": [
    "# Each feature in sequences holds a shape of (X,132)\n",
    "# X being the number of frames of the video\n",
    "# As we are using an LSTM model it requires all input to be the same size\n",
    "# We are effectively doing that by utilizing the keras pad_sequences function\n",
    "# Which pads all the features to the same size as the longest video\n",
    "# Which is a 191 frames in our scenario\n",
    "\n",
    "X = tf.keras.preprocessing.sequence.pad_sequences(sequences)"
   ]
  },
  {
   "cell_type": "code",
   "execution_count": 14,
   "id": "37ef8674",
   "metadata": {},
   "outputs": [
    {
     "data": {
      "text/plain": [
       "(240, 0)"
      ]
     },
     "execution_count": 14,
     "metadata": {},
     "output_type": "execute_result"
    }
   ],
   "source": [
    "# We now curretly have 240 features(videos)\n",
    "# Each of the shape of 191(frames) and 132(key-points)\n",
    "\n",
    "X.shape"
   ]
  },
  {
   "cell_type": "code",
   "execution_count": 15,
   "id": "f3c1c613",
   "metadata": {},
   "outputs": [
    {
     "data": {
      "text/plain": [
       "(240, 2)"
      ]
     },
     "execution_count": 15,
     "metadata": {},
     "output_type": "execute_result"
    }
   ],
   "source": [
    "y = to_categorical(labels).astype(int)\n",
    "y.shape"
   ]
  },
  {
   "cell_type": "code",
   "execution_count": 16,
   "id": "1ce27512",
   "metadata": {},
   "outputs": [],
   "source": [
    "# Saving Features and Labels for later use\n",
    "np.save(\"Features\",X)\n",
    "np.save(\"Labels\",y)"
   ]
  },
  {
   "cell_type": "markdown",
   "id": "66c12a98",
   "metadata": {},
   "source": [
    "## 3) Creating, Training and Testing the Model"
   ]
  },
  {
   "cell_type": "code",
   "execution_count": 17,
   "id": "d9ddaa72",
   "metadata": {},
   "outputs": [],
   "source": [
    "X_train, X_test, y_train, y_test = train_test_split(X, y, test_size=0.2)"
   ]
  },
  {
   "cell_type": "code",
   "execution_count": 18,
   "id": "a755c5f9",
   "metadata": {},
   "outputs": [],
   "source": [
    "from tensorflow.keras.models import Sequential, load_model\n",
    "from tensorflow.keras.layers import LSTM, Dense\n",
    "from tensorflow.keras.callbacks import TensorBoard"
   ]
  },
  {
   "cell_type": "code",
   "execution_count": 19,
   "id": "b44962c2",
   "metadata": {},
   "outputs": [],
   "source": [
    "# Setting callbacks for tensorboard\n",
    "log_dir = os.path.join('Logs_Retrain')\n",
    "tb_callback = TensorBoard(log_dir=log_dir)"
   ]
  },
  {
   "cell_type": "code",
   "execution_count": 20,
   "id": "491d61a2",
   "metadata": {},
   "outputs": [],
   "source": [
    "# Basic LSTM model for demonstartion purposes\n",
    "\n",
    "model = Sequential()\n",
    "model.add(LSTM(64, return_sequences=False, activation='relu', input_shape=(191,132)))\n",
    "model.add(Dense(64, activation='relu'))\n",
    "model.add(Dense(32, activation='relu'))\n",
    "model.add(Dense(Squat_result.shape[0], activation='sigmoid'))"
   ]
  },
  {
   "cell_type": "code",
   "execution_count": 22,
   "id": "7f9c60ff",
   "metadata": {},
   "outputs": [
    {
     "name": "stdout",
     "output_type": "stream",
     "text": [
      "Model: \"sequential\"\n",
      "_________________________________________________________________\n",
      " Layer (type)                Output Shape              Param #   \n",
      "=================================================================\n",
      " lstm (LSTM)                 (None, 64)                50432     \n",
      "                                                                 \n",
      " dense (Dense)               (None, 64)                4160      \n",
      "                                                                 \n",
      " dense_1 (Dense)             (None, 32)                2080      \n",
      "                                                                 \n",
      " dense_2 (Dense)             (None, 2)                 66        \n",
      "                                                                 \n",
      "=================================================================\n",
      "Total params: 56738 (221.63 KB)\n",
      "Trainable params: 56738 (221.63 KB)\n",
      "Non-trainable params: 0 (0.00 Byte)\n",
      "_________________________________________________________________\n"
     ]
    }
   ],
   "source": [
    "model.compile(loss='binary_crossentropy', optimizer='adam', metrics=['accuracy'])\n",
    "model.summary()"
   ]
  },
  {
   "cell_type": "code",
   "execution_count": 25,
   "id": "4463baf9",
   "metadata": {},
   "outputs": [
    {
     "name": "stdout",
     "output_type": "stream",
     "text": [
      "Epoch 1/100\n"
     ]
    },
    {
     "ename": "ValueError",
     "evalue": "in user code:\n\n    File \"/Users/anerisheth/Library/Python/3.9/lib/python/site-packages/keras/src/engine/training.py\", line 1401, in train_function  *\n        return step_function(self, iterator)\n    File \"/Users/anerisheth/Library/Python/3.9/lib/python/site-packages/keras/src/engine/training.py\", line 1384, in step_function  **\n        outputs = model.distribute_strategy.run(run_step, args=(data,))\n    File \"/Users/anerisheth/Library/Python/3.9/lib/python/site-packages/keras/src/engine/training.py\", line 1373, in run_step  **\n        outputs = model.train_step(data)\n    File \"/Users/anerisheth/Library/Python/3.9/lib/python/site-packages/keras/src/engine/training.py\", line 1150, in train_step\n        y_pred = self(x, training=True)\n    File \"/Users/anerisheth/Library/Python/3.9/lib/python/site-packages/keras/src/utils/traceback_utils.py\", line 70, in error_handler\n        raise e.with_traceback(filtered_tb) from None\n    File \"/Users/anerisheth/Library/Python/3.9/lib/python/site-packages/keras/src/engine/input_spec.py\", line 298, in assert_input_compatibility\n        raise ValueError(\n\n    ValueError: Input 0 of layer \"sequential\" is incompatible with the layer: expected shape=(None, 191, 132), found shape=(32, 0)\n",
     "output_type": "error",
     "traceback": [
      "\u001b[0;31m---------------------------------------------------------------------------\u001b[0m",
      "\u001b[0;31mValueError\u001b[0m                                Traceback (most recent call last)",
      "Cell \u001b[0;32mIn[25], line 1\u001b[0m\n\u001b[0;32m----> 1\u001b[0m \u001b[43mmodel\u001b[49m\u001b[38;5;241;43m.\u001b[39;49m\u001b[43mfit\u001b[49m\u001b[43m(\u001b[49m\u001b[43mX_train\u001b[49m\u001b[43m,\u001b[49m\u001b[43m \u001b[49m\u001b[43my_train\u001b[49m\u001b[43m,\u001b[49m\u001b[43m \u001b[49m\u001b[43mepochs\u001b[49m\u001b[38;5;241;43m=\u001b[39;49m\u001b[38;5;241;43m100\u001b[39;49m\u001b[43m,\u001b[49m\u001b[43m \u001b[49m\u001b[43mvalidation_data\u001b[49m\u001b[38;5;241;43m=\u001b[39;49m\u001b[43m(\u001b[49m\u001b[43mX_test\u001b[49m\u001b[43m,\u001b[49m\u001b[43m \u001b[49m\u001b[43my_test\u001b[49m\u001b[43m)\u001b[49m\u001b[43m,\u001b[49m\u001b[43m \u001b[49m\u001b[43mcallbacks\u001b[49m\u001b[38;5;241;43m=\u001b[39;49m\u001b[43m[\u001b[49m\u001b[43mtb_callback\u001b[49m\u001b[43m]\u001b[49m\u001b[43m)\u001b[49m\n",
      "File \u001b[0;32m~/Library/Python/3.9/lib/python/site-packages/keras/src/utils/traceback_utils.py:70\u001b[0m, in \u001b[0;36mfilter_traceback.<locals>.error_handler\u001b[0;34m(*args, **kwargs)\u001b[0m\n\u001b[1;32m     67\u001b[0m     filtered_tb \u001b[38;5;241m=\u001b[39m _process_traceback_frames(e\u001b[38;5;241m.\u001b[39m__traceback__)\n\u001b[1;32m     68\u001b[0m     \u001b[38;5;66;03m# To get the full stack trace, call:\u001b[39;00m\n\u001b[1;32m     69\u001b[0m     \u001b[38;5;66;03m# `tf.debugging.disable_traceback_filtering()`\u001b[39;00m\n\u001b[0;32m---> 70\u001b[0m     \u001b[38;5;28;01mraise\u001b[39;00m e\u001b[38;5;241m.\u001b[39mwith_traceback(filtered_tb) \u001b[38;5;28;01mfrom\u001b[39;00m \u001b[38;5;28;01mNone\u001b[39;00m\n\u001b[1;32m     71\u001b[0m \u001b[38;5;28;01mfinally\u001b[39;00m:\n\u001b[1;32m     72\u001b[0m     \u001b[38;5;28;01mdel\u001b[39;00m filtered_tb\n",
      "File \u001b[0;32m/var/folders/p5/bvbcxn496tx1ydt_2bhw6c180000gn/T/__autograph_generated_file1yh6ib93.py:15\u001b[0m, in \u001b[0;36mouter_factory.<locals>.inner_factory.<locals>.tf__train_function\u001b[0;34m(iterator)\u001b[0m\n\u001b[1;32m     13\u001b[0m \u001b[38;5;28;01mtry\u001b[39;00m:\n\u001b[1;32m     14\u001b[0m     do_return \u001b[38;5;241m=\u001b[39m \u001b[38;5;28;01mTrue\u001b[39;00m\n\u001b[0;32m---> 15\u001b[0m     retval_ \u001b[38;5;241m=\u001b[39m ag__\u001b[38;5;241m.\u001b[39mconverted_call(ag__\u001b[38;5;241m.\u001b[39mld(step_function), (ag__\u001b[38;5;241m.\u001b[39mld(\u001b[38;5;28mself\u001b[39m), ag__\u001b[38;5;241m.\u001b[39mld(iterator)), \u001b[38;5;28;01mNone\u001b[39;00m, fscope)\n\u001b[1;32m     16\u001b[0m \u001b[38;5;28;01mexcept\u001b[39;00m:\n\u001b[1;32m     17\u001b[0m     do_return \u001b[38;5;241m=\u001b[39m \u001b[38;5;28;01mFalse\u001b[39;00m\n",
      "\u001b[0;31mValueError\u001b[0m: in user code:\n\n    File \"/Users/anerisheth/Library/Python/3.9/lib/python/site-packages/keras/src/engine/training.py\", line 1401, in train_function  *\n        return step_function(self, iterator)\n    File \"/Users/anerisheth/Library/Python/3.9/lib/python/site-packages/keras/src/engine/training.py\", line 1384, in step_function  **\n        outputs = model.distribute_strategy.run(run_step, args=(data,))\n    File \"/Users/anerisheth/Library/Python/3.9/lib/python/site-packages/keras/src/engine/training.py\", line 1373, in run_step  **\n        outputs = model.train_step(data)\n    File \"/Users/anerisheth/Library/Python/3.9/lib/python/site-packages/keras/src/engine/training.py\", line 1150, in train_step\n        y_pred = self(x, training=True)\n    File \"/Users/anerisheth/Library/Python/3.9/lib/python/site-packages/keras/src/utils/traceback_utils.py\", line 70, in error_handler\n        raise e.with_traceback(filtered_tb) from None\n    File \"/Users/anerisheth/Library/Python/3.9/lib/python/site-packages/keras/src/engine/input_spec.py\", line 298, in assert_input_compatibility\n        raise ValueError(\n\n    ValueError: Input 0 of layer \"sequential\" is incompatible with the layer: expected shape=(None, 191, 132), found shape=(32, 0)\n"
     ]
    }
   ],
   "source": [
    "model.fit(X_train, y_train, epochs=100, validation_data=(X_test, y_test), callbacks=[tb_callback])"
   ]
  },
  {
   "cell_type": "markdown",
   "id": "09096c00",
   "metadata": {},
   "source": [
    "### 3.1) Saving model weights"
   ]
  },
  {
   "cell_type": "code",
   "execution_count": 25,
   "id": "ff6a9cd0",
   "metadata": {},
   "outputs": [],
   "source": [
    "model.save('model.h5')"
   ]
  },
  {
   "cell_type": "code",
   "execution_count": 28,
   "id": "5a51ddc6",
   "metadata": {},
   "outputs": [],
   "source": [
    "saved_model = load_model('model.h5')"
   ]
  },
  {
   "cell_type": "markdown",
   "id": "2f9d6cab",
   "metadata": {},
   "source": [
    "## 4) Evaluation of Model"
   ]
  },
  {
   "cell_type": "code",
   "execution_count": 29,
   "id": "dea181d4",
   "metadata": {},
   "outputs": [],
   "source": [
    "from sklearn.metrics import accuracy_score, confusion_matrix"
   ]
  },
  {
   "cell_type": "code",
   "execution_count": 30,
   "id": "80045f93",
   "metadata": {},
   "outputs": [],
   "source": [
    "yhat = saved_model.predict(X_test)"
   ]
  },
  {
   "cell_type": "code",
   "execution_count": 31,
   "id": "77345c47",
   "metadata": {},
   "outputs": [],
   "source": [
    "ytrue = np.argmax(y_test, axis=1).tolist()\n",
    "yhat = np.argmax(yhat, axis=1).tolist()"
   ]
  },
  {
   "cell_type": "code",
   "execution_count": 32,
   "id": "34de46fa",
   "metadata": {},
   "outputs": [
    {
     "data": {
      "text/plain": [
       "array([[17,  6],\n",
       "       [21,  4]], dtype=int64)"
      ]
     },
     "execution_count": 32,
     "metadata": {},
     "output_type": "execute_result"
    }
   ],
   "source": [
    "confusion_matrix(ytrue, yhat)"
   ]
  },
  {
   "cell_type": "code",
   "execution_count": 33,
   "id": "7f8e3132",
   "metadata": {},
   "outputs": [
    {
     "data": {
      "text/plain": [
       "0.4375"
      ]
     },
     "execution_count": 33,
     "metadata": {},
     "output_type": "execute_result"
    }
   ],
   "source": [
    "accuracy_score(ytrue, yhat)"
   ]
  },
  {
   "cell_type": "markdown",
   "id": "cc1e15f4",
   "metadata": {},
   "source": [
    "## 5) Making predictions to new videos"
   ]
  },
  {
   "cell_type": "code",
   "execution_count": 34,
   "id": "27f198d3",
   "metadata": {},
   "outputs": [],
   "source": [
    "# Array is used to pad the recieved sequence to the shape the Deep Learning Model Accepts\n",
    "longest_sequence = np.load(\"Longest_Sequence.npy\")"
   ]
  },
  {
   "cell_type": "code",
   "execution_count": 40,
   "id": "36824fc1",
   "metadata": {},
   "outputs": [],
   "source": [
    "# New detection variables\n",
    "sequence_for_prediction = [longest_sequence]\n",
    "\n",
    "window = []\n",
    "\n",
    "# Capturing Video Stream\n",
    "cap = cv2.VideoCapture(r'your video path here')\n",
    "\n",
    "\n",
    "# Set mediapipe model\n",
    "with mp_holistic.Holistic(min_detection_confidence=0.5, min_tracking_confidence=0.5) as holistic:\n",
    "    while cap.isOpened():\n",
    "\n",
    "        # Read feed\n",
    "        ret, frame = cap.read()\n",
    "        #Close window at end of video\n",
    "        if not ret:\n",
    "            break\n",
    "\n",
    "        # Make detections\n",
    "        image, results = mediapipe_detection(frame, holistic)\n",
    "\n",
    "        # Draw landmarks\n",
    "        draw_styled_landmarks(image, results)\n",
    "        \n",
    "        dim = scale_video(30)\n",
    "        # Show to screen\n",
    "\n",
    "        image = cv2.resize(image, dim, interpolation = cv2.INTER_AREA)\n",
    "\n",
    "\n",
    "        cv2.imshow('OpenCV Feed', image)\n",
    "\n",
    "        # Prediction logic\n",
    "        keypoints = extract_keypoints(results)\n",
    "        window.append(keypoints)\n",
    "        \n",
    "        \n",
    "\n",
    "        \n",
    "\n",
    "    cap.release()\n",
    "    cv2.destroyAllWindows()\n",
    "\n",
    "    sequence_for_prediction.append(window)\n",
    "    padded_sequence = tf.keras.preprocessing.sequence.pad_sequences(sequence_for_prediction, maxlen=191)\n",
    "    seq_to_predict = padded_sequence[1]       \n"
   ]
  },
  {
   "cell_type": "code",
   "execution_count": 24,
   "id": "d26e96e8",
   "metadata": {},
   "outputs": [
    {
     "ename": "NameError",
     "evalue": "name 'seq_to_predict' is not defined",
     "output_type": "error",
     "traceback": [
      "\u001b[0;31m---------------------------------------------------------------------------\u001b[0m",
      "\u001b[0;31mNameError\u001b[0m                                 Traceback (most recent call last)",
      "Cell \u001b[0;32mIn[24], line 1\u001b[0m\n\u001b[0;32m----> 1\u001b[0m \u001b[38;5;28mprint\u001b[39m (\u001b[43mseq_to_predict\u001b[49m)\n",
      "\u001b[0;31mNameError\u001b[0m: name 'seq_to_predict' is not defined"
     ]
    }
   ],
   "source": [
    "print (seq_to_predict)"
   ]
  },
  {
   "cell_type": "code",
   "execution_count": 41,
   "id": "cfef5256",
   "metadata": {},
   "outputs": [
    {
     "name": "stdout",
     "output_type": "stream",
     "text": [
      "Valid\n"
     ]
    }
   ],
   "source": [
    "# Predicting the squat validity\n",
    "res = model.predict(np.expand_dims(seq_to_predict, axis=0))\n",
    "print (Squat_result[np.argmax(res)])"
   ]
  },
  {
   "cell_type": "code",
   "execution_count": null,
   "id": "490de6ed",
   "metadata": {},
   "outputs": [],
   "source": []
  }
 ],
 "metadata": {
  "kernelspec": {
   "display_name": "Python 3 (ipykernel)",
   "language": "python",
   "name": "python3"
  },
  "language_info": {
   "codemirror_mode": {
    "name": "ipython",
    "version": 3
   },
   "file_extension": ".py",
   "mimetype": "text/x-python",
   "name": "python",
   "nbconvert_exporter": "python",
   "pygments_lexer": "ipython3",
   "version": "3.9.6"
  }
 },
 "nbformat": 4,
 "nbformat_minor": 5
}
